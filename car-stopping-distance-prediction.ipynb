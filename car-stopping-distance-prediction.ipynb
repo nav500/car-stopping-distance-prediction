{
 "cells": [
  {
   "cell_type": "markdown",
   "id": "2dbc3599-f2b5-4c86-aab0-c2bbf8f5b3f6",
   "metadata": {},
   "source": [
    "# Introduction"
   ]
  },
  {
   "cell_type": "markdown",
   "id": "02659a4f-8f4a-426f-a221-491e37f4da78",
   "metadata": {},
   "source": [
    "The model predicts car stopping distance based on the car's speed. The model is a univariate linear regression model. The car's speed is a feature, and the stopping distance is the target value. "
   ]
  },
  {
   "cell_type": "markdown",
   "id": "b70edb7a-5127-4537-b4a6-320a6133768d",
   "metadata": {},
   "source": [
    "# Data source"
   ]
  },
  {
   "cell_type": "markdown",
   "id": "3e1da93f-d090-444f-94f9-1a680b5b5ccd",
   "metadata": {},
   "source": [
    "The dataset is obtained from third party - [wolfram cloud](https://datarepository.wolframcloud.com/resources/Sample-Data-Car-Stopping-Distances/). The dataset is in csv format.\n",
    "\n",
    "SOURCE METADATA\n",
    "* Title: Car Stopping Distances\n",
    "* Creator: Ezekiel, M.\n",
    "* Publisher: Wiley\n",
    "* Date: 1930\n",
    "* Description: Data on the relation between the speed of the car and the distance for the car to stop.\n",
    "* Language: English\n",
    "* Source: Methods of Correlation Analysis"
   ]
  },
  {
   "cell_type": "markdown",
   "id": "91412ccb-0749-4d49-954c-fa635bfebf74",
   "metadata": {},
   "source": [
    "# Importing all the necessary packages"
   ]
  },
  {
   "cell_type": "code",
   "execution_count": 274,
   "id": "b74ab593-399d-48b0-b254-fc974e029583",
   "metadata": {},
   "outputs": [],
   "source": [
    "import numpy as np\n",
    "import pandas as pd\n",
    "import matplotlib.pyplot as plt"
   ]
  },
  {
   "cell_type": "markdown",
   "id": "9c2c7dcc-beb2-4857-b533-84355c68c0ca",
   "metadata": {},
   "source": [
    "# Data exploration"
   ]
  },
  {
   "cell_type": "markdown",
   "id": "b1107e82-cd54-4c81-8586-141601e96007",
   "metadata": {},
   "source": [
    "## Loading the data"
   ]
  },
  {
   "cell_type": "code",
   "execution_count": 275,
   "id": "2279f0ca-0b85-442c-9d58-9d5f127b27d3",
   "metadata": {},
   "outputs": [],
   "source": [
    "car_stopping_df = pd.read_csv(\"Sample-Data-Car-Stopping-Distances.csv\")"
   ]
  },
  {
   "cell_type": "markdown",
   "id": "f79f54a2-1e99-4dca-9b55-3eae9fa38c4c",
   "metadata": {},
   "source": [
    "## Structure of the data"
   ]
  },
  {
   "cell_type": "code",
   "execution_count": 276,
   "id": "b07ad3d0-36c4-4b5b-870b-bc595eedc560",
   "metadata": {},
   "outputs": [
    {
     "name": "stdout",
     "output_type": "stream",
     "text": [
      "<class 'pandas.core.frame.DataFrame'>\n",
      "RangeIndex: 50 entries, 0 to 49\n",
      "Data columns (total 2 columns):\n",
      " #   Column    Non-Null Count  Dtype \n",
      "---  ------    --------------  ----- \n",
      " 0   Speed     50 non-null     object\n",
      " 1   Distance  50 non-null     object\n",
      "dtypes: object(2)\n",
      "memory usage: 928.0+ bytes\n"
     ]
    }
   ],
   "source": [
    "car_stopping_df.info()"
   ]
  },
  {
   "cell_type": "markdown",
   "id": "49698262-8ab8-42d9-856a-d5a88dd5af80",
   "metadata": {},
   "source": [
    "The dataset contains 50 entries. There are two columns \"Speed\" and \"Distance\"."
   ]
  },
  {
   "cell_type": "code",
   "execution_count": 277,
   "id": "48a68ab9-be12-4a50-809b-115d65f25437",
   "metadata": {},
   "outputs": [
    {
     "data": {
      "text/html": [
       "<div>\n",
       "<style scoped>\n",
       "    .dataframe tbody tr th:only-of-type {\n",
       "        vertical-align: middle;\n",
       "    }\n",
       "\n",
       "    .dataframe tbody tr th {\n",
       "        vertical-align: top;\n",
       "    }\n",
       "\n",
       "    .dataframe thead th {\n",
       "        text-align: right;\n",
       "    }\n",
       "</style>\n",
       "<table border=\"1\" class=\"dataframe\">\n",
       "  <thead>\n",
       "    <tr style=\"text-align: right;\">\n",
       "      <th></th>\n",
       "      <th>Speed</th>\n",
       "      <th>Distance</th>\n",
       "    </tr>\n",
       "  </thead>\n",
       "  <tbody>\n",
       "    <tr>\n",
       "      <th>0</th>\n",
       "      <td>Quantity[4, \"Miles\"/\"Hours\"]</td>\n",
       "      <td>Quantity[2, \"Feet\"]</td>\n",
       "    </tr>\n",
       "    <tr>\n",
       "      <th>1</th>\n",
       "      <td>Quantity[4, \"Miles\"/\"Hours\"]</td>\n",
       "      <td>Quantity[10, \"Feet\"]</td>\n",
       "    </tr>\n",
       "    <tr>\n",
       "      <th>2</th>\n",
       "      <td>Quantity[7, \"Miles\"/\"Hours\"]</td>\n",
       "      <td>Quantity[4, \"Feet\"]</td>\n",
       "    </tr>\n",
       "    <tr>\n",
       "      <th>3</th>\n",
       "      <td>Quantity[7, \"Miles\"/\"Hours\"]</td>\n",
       "      <td>Quantity[22, \"Feet\"]</td>\n",
       "    </tr>\n",
       "    <tr>\n",
       "      <th>4</th>\n",
       "      <td>Quantity[8, \"Miles\"/\"Hours\"]</td>\n",
       "      <td>Quantity[16, \"Feet\"]</td>\n",
       "    </tr>\n",
       "  </tbody>\n",
       "</table>\n",
       "</div>"
      ],
      "text/plain": [
       "                          Speed              Distance\n",
       "0  Quantity[4, \"Miles\"/\"Hours\"]   Quantity[2, \"Feet\"]\n",
       "1  Quantity[4, \"Miles\"/\"Hours\"]  Quantity[10, \"Feet\"]\n",
       "2  Quantity[7, \"Miles\"/\"Hours\"]   Quantity[4, \"Feet\"]\n",
       "3  Quantity[7, \"Miles\"/\"Hours\"]  Quantity[22, \"Feet\"]\n",
       "4  Quantity[8, \"Miles\"/\"Hours\"]  Quantity[16, \"Feet\"]"
      ]
     },
     "execution_count": 277,
     "metadata": {},
     "output_type": "execute_result"
    }
   ],
   "source": [
    "car_stopping_df.head()"
   ]
  },
  {
   "cell_type": "markdown",
   "id": "156348bb-bf41-48d9-9eae-a82ad207e147",
   "metadata": {},
   "source": [
    "\"Speed\" and \"Distance\" columns contain string values."
   ]
  },
  {
   "cell_type": "markdown",
   "id": "66b64506-5bff-4947-ac84-09a648cf7abd",
   "metadata": {},
   "source": [
    "# Data cleaning"
   ]
  },
  {
   "cell_type": "markdown",
   "id": "2d1ecee9-84b0-4d50-a76d-8e4ce4fd607f",
   "metadata": {},
   "source": [
    "## Check for null values"
   ]
  },
  {
   "cell_type": "code",
   "execution_count": 278,
   "id": "89079db5-74f0-4c75-86c4-2571d0788bc5",
   "metadata": {},
   "outputs": [
    {
     "data": {
      "text/plain": [
       "False"
      ]
     },
     "execution_count": 278,
     "metadata": {},
     "output_type": "execute_result"
    }
   ],
   "source": [
    "car_stopping_df.isnull().values.any()"
   ]
  },
  {
   "cell_type": "markdown",
   "id": "405aa36c-f8e4-4862-b54b-9655aebad121",
   "metadata": {},
   "source": [
    "So there are no null values."
   ]
  },
  {
   "cell_type": "markdown",
   "id": "07f7f3f0-622b-4bb1-8bb4-720b15c8c587",
   "metadata": {},
   "source": [
    "## Store only numbers in \"Speed\" and \"Distance\" columns"
   ]
  },
  {
   "cell_type": "markdown",
   "id": "22a309fb-6630-4758-a9da-275654950b77",
   "metadata": {},
   "source": [
    "The \"Speed\" and \"Distance\" columns contain string but we require numbers for constructing the model. Extract numbers from \"Speed\" and \"Distance\" columns and assign them to \"Speed\" and \"Distance\" columns."
   ]
  },
  {
   "cell_type": "code",
   "execution_count": 279,
   "id": "86a594c9-7fbd-4882-a890-a7ead493cf4a",
   "metadata": {},
   "outputs": [],
   "source": [
    "car_stopping_df[\"Speed\"] = car_stopping_df[\"Speed\"].str.extract('(\\d+)')\n",
    "car_stopping_df[\"Distance\"] = car_stopping_df[\"Distance\"].str.extract('(\\d+)')\n",
    "\n",
    "car_stopping_df[\"Speed\"] = car_stopping_df[\"Speed\"].astype(np.float16)\n",
    "car_stopping_df[\"Distance\"] = car_stopping_df[\"Distance\"].astype(np.float16)"
   ]
  },
  {
   "cell_type": "code",
   "execution_count": null,
   "id": "725e19bc-a5e5-4036-941c-5630683df590",
   "metadata": {},
   "outputs": [],
   "source": []
  },
  {
   "cell_type": "code",
   "execution_count": 280,
   "id": "fd016269-f12a-4ef7-b3d3-9222ab4ff7f2",
   "metadata": {},
   "outputs": [
    {
     "name": "stdout",
     "output_type": "stream",
     "text": [
      "float16\n",
      "float16\n"
     ]
    }
   ],
   "source": [
    "print(car_stopping_df[\"Speed\"].dtypes)\n",
    "print(car_stopping_df[\"Distance\"].dtypes)"
   ]
  },
  {
   "cell_type": "code",
   "execution_count": 281,
   "id": "b0ff50be-1e7b-4da8-8f41-ce10749f515b",
   "metadata": {},
   "outputs": [
    {
     "data": {
      "text/html": [
       "<div>\n",
       "<style scoped>\n",
       "    .dataframe tbody tr th:only-of-type {\n",
       "        vertical-align: middle;\n",
       "    }\n",
       "\n",
       "    .dataframe tbody tr th {\n",
       "        vertical-align: top;\n",
       "    }\n",
       "\n",
       "    .dataframe thead th {\n",
       "        text-align: right;\n",
       "    }\n",
       "</style>\n",
       "<table border=\"1\" class=\"dataframe\">\n",
       "  <thead>\n",
       "    <tr style=\"text-align: right;\">\n",
       "      <th></th>\n",
       "      <th>Speed</th>\n",
       "      <th>Distance</th>\n",
       "    </tr>\n",
       "  </thead>\n",
       "  <tbody>\n",
       "    <tr>\n",
       "      <th>0</th>\n",
       "      <td>4.0</td>\n",
       "      <td>2.0</td>\n",
       "    </tr>\n",
       "    <tr>\n",
       "      <th>1</th>\n",
       "      <td>4.0</td>\n",
       "      <td>10.0</td>\n",
       "    </tr>\n",
       "    <tr>\n",
       "      <th>2</th>\n",
       "      <td>7.0</td>\n",
       "      <td>4.0</td>\n",
       "    </tr>\n",
       "    <tr>\n",
       "      <th>3</th>\n",
       "      <td>7.0</td>\n",
       "      <td>22.0</td>\n",
       "    </tr>\n",
       "    <tr>\n",
       "      <th>4</th>\n",
       "      <td>8.0</td>\n",
       "      <td>16.0</td>\n",
       "    </tr>\n",
       "  </tbody>\n",
       "</table>\n",
       "</div>"
      ],
      "text/plain": [
       "   Speed  Distance\n",
       "0    4.0       2.0\n",
       "1    4.0      10.0\n",
       "2    7.0       4.0\n",
       "3    7.0      22.0\n",
       "4    8.0      16.0"
      ]
     },
     "execution_count": 281,
     "metadata": {},
     "output_type": "execute_result"
    }
   ],
   "source": [
    "car_stopping_df.head()"
   ]
  },
  {
   "cell_type": "code",
   "execution_count": 282,
   "id": "b7376ea3-4ffd-4abb-83c9-dbcc73c7c778",
   "metadata": {},
   "outputs": [
    {
     "name": "stdout",
     "output_type": "stream",
     "text": [
      "<class 'pandas.core.frame.DataFrame'>\n",
      "RangeIndex: 50 entries, 0 to 49\n",
      "Data columns (total 2 columns):\n",
      " #   Column    Non-Null Count  Dtype  \n",
      "---  ------    --------------  -----  \n",
      " 0   Speed     50 non-null     float16\n",
      " 1   Distance  50 non-null     float16\n",
      "dtypes: float16(2)\n",
      "memory usage: 328.0 bytes\n"
     ]
    }
   ],
   "source": [
    "car_stopping_df.info()"
   ]
  },
  {
   "cell_type": "markdown",
   "id": "8ccaa706-1293-486e-a714-c224051ab1bc",
   "metadata": {},
   "source": [
    "# Model building"
   ]
  },
  {
   "cell_type": "markdown",
   "id": "214445c8-571c-41b0-8aa2-e4902432c32d",
   "metadata": {},
   "source": [
    "## Check whether there is a correlation between speed and stopping distance"
   ]
  },
  {
   "cell_type": "code",
   "execution_count": 283,
   "id": "05ae4d10-e150-4890-b43c-29f24cddcdd9",
   "metadata": {},
   "outputs": [
    {
     "data": {
      "image/png": "[encoded data removed]",
      "text/plain": [
       "<Figure size 640x480 with 1 Axes>"
      ]
     },
     "metadata": {},
     "output_type": "display_data"
    }
   ],
   "source": [
    "plt.scatter(car_stopping_df[\"Speed\"], car_stopping_df[\"Distance\"])\n",
    "plt.xlabel(\"Speed (miles/hour)\")\n",
    "plt.ylabel(\"Stopping distance (feet)\")\n",
    "plt.title(\"Car stopping distance plot\")\n",
    "plt.show()"
   ]
  },
  {
   "cell_type": "markdown",
   "id": "86b3ab3b-0132-49e6-babf-a3d59d8d0bf9",
   "metadata": {},
   "source": [
    "The scatter plot shows that there is a linear correlation between speed and stopping distance."
   ]
  },
  {
   "cell_type": "markdown",
   "id": "c60dee36-d7bf-4033-bbfe-0e2052807c2c",
   "metadata": {},
   "source": [
    "## Univariate linear regression model"
   ]
  },
  {
   "cell_type": "markdown",
   "id": "f6b7b4c2-61a0-490f-8d35-33700e531a7b",
   "metadata": {},
   "source": [
    "### Model"
   ]
  },
  {
   "cell_type": "markdown",
   "id": "07e0e4e5-f864-43a6-8e34-633e449302fa",
   "metadata": {},
   "source": [
    "let $x$ be the feature \"speed\" and $y$ be the target value \"distance\" (stopping distance)"
   ]
  },
  {
   "cell_type": "markdown",
   "id": "e64b9eeb-72a1-4fea-a0e5-638410d308cd",
   "metadata": {},
   "source": [
    "Since there is only one feature, the linear regression model is referred to as Univariate linear regression model"
   ]
  },
  {
   "cell_type": "markdown",
   "id": "fca71a96-195c-419f-b63b-7683514dcb3b",
   "metadata": {},
   "source": [
    "The model $f$ is represented as\n",
    "\n",
    "$$ f_{w, b}(x) = wx + b $$\n",
    "\n",
    "where $w$, $b$ are weight and bias respectevely.\n",
    "\n",
    "$y$ is the actual target value.\n",
    "\n",
    "$$ \\hat{y} = f_{w,b}(x) $$\n",
    "\n",
    "$\\hat{y}$ is the predicted output by the model."
   ]
  },
  {
   "cell_type": "markdown",
   "id": "8c8fb8b6-f8ba-4e88-86ac-39c39f87d418",
   "metadata": {},
   "source": [
    "### Training set"
   ]
  },
  {
   "cell_type": "markdown",
   "id": "0727b508-c53e-4e3d-8cc5-4e785985c9a5",
   "metadata": {},
   "source": [
    "The set of values of \"Speed\" column is feature set for training. The set of values of \"Distance\" column is target set for training."
   ]
  },
  {
   "cell_type": "code",
   "execution_count": 284,
   "id": "d507eb32-e883-4dd9-b029-fe59e1a20c1d",
   "metadata": {},
   "outputs": [
    {
     "data": {
      "text/plain": [
       "array([ 4.,  4.,  7.,  7.,  8.,  9., 10., 10., 10., 11., 11., 12., 12.,\n",
       "       12., 12., 13., 13., 13., 13., 14., 14., 14., 14., 15., 15., 15.,\n",
       "       16., 16., 17., 17., 17., 18., 18., 18., 18., 19., 19., 19., 20.,\n",
       "       20., 20., 20., 20., 22., 23., 24., 24., 24., 24., 25.],\n",
       "      dtype=float16)"
      ]
     },
     "execution_count": 284,
     "metadata": {},
     "output_type": "execute_result"
    }
   ],
   "source": [
    "x_train = car_stopping_df[\"Speed\"].to_numpy()\n",
    "x_train"
   ]
  },
  {
   "cell_type": "code",
   "execution_count": 285,
   "id": "94e55da3-65d2-45a1-9f21-35fb12022036",
   "metadata": {},
   "outputs": [
    {
     "data": {
      "text/plain": [
       "array([  2.,  10.,   4.,  22.,  16.,  10.,  18.,  26.,  34.,  17.,  28.,\n",
       "        14.,  20.,  24.,  28.,  26.,  34.,  34.,  46.,  26.,  36.,  60.,\n",
       "        80.,  20.,  26.,  54.,  32.,  40.,  32.,  40.,  50.,  42.,  56.,\n",
       "        76.,  84.,  36.,  46.,  68.,  32.,  48.,  52.,  56.,  64.,  66.,\n",
       "        54.,  70.,  92.,  93., 120.,  85.], dtype=float16)"
      ]
     },
     "execution_count": 285,
     "metadata": {},
     "output_type": "execute_result"
    }
   ],
   "source": [
    "y_train = car_stopping_df[\"Distance\"].to_numpy()\n",
    "y_train"
   ]
  },
  {
   "cell_type": "code",
   "execution_count": 286,
   "id": "22166b4b-0707-41ae-80a9-ea2825256f78",
   "metadata": {},
   "outputs": [
    {
     "data": {
      "text/plain": [
       "50"
      ]
     },
     "execution_count": 286,
     "metadata": {},
     "output_type": "execute_result"
    }
   ],
   "source": [
    "len(x_train)"
   ]
  },
  {
   "cell_type": "markdown",
   "id": "0e8ddd1e-abd8-4d49-89b0-da02a988339e",
   "metadata": {},
   "source": [
    "The size of the training set or the number of training examples is $m = 50$"
   ]
  },
  {
   "cell_type": "markdown",
   "id": "bc7f211a-a040-4092-aa54-8f64a16cc6b6",
   "metadata": {},
   "source": [
    "### Weight and bias"
   ]
  },
  {
   "cell_type": "markdown",
   "id": "603fcc74-9489-4030-b651-c8e55ef14ea4",
   "metadata": {},
   "source": [
    "$w$ and $b$ are weight and bias respectively. Let the initial value of both $w$ and $b$ be 0."
   ]
  },
  {
   "cell_type": "code",
   "execution_count": 287,
   "id": "ec85e41c-7951-4a0d-a1ff-f1b03ac76a74",
   "metadata": {},
   "outputs": [],
   "source": [
    "w = 0\n",
    "b = 0"
   ]
  },
  {
   "cell_type": "markdown",
   "id": "5626ab38-76a3-4e66-ae29-a6567590d266",
   "metadata": {},
   "source": [
    "### Cost function"
   ]
  },
  {
   "cell_type": "markdown",
   "id": "0a15b2e0-c00a-4e5d-a155-af9538f11087",
   "metadata": {},
   "source": [
    "The cost function computes the average squared differences in predicted output and actual output. It indicates how good the model is. The goal is to make cost value as low as possible."
   ]
  },
  {
   "cell_type": "markdown",
   "id": "881f0bf7-a329-43db-85d8-2aa0d60431e1",
   "metadata": {},
   "source": [
    "The cost function $J$ is given by\n",
    "$$ J(w, b) = \\frac{1}{m}\\sum_{i=1}^{m}(\\hat{y}-y)^2; $$"
   ]
  },
  {
   "cell_type": "markdown",
   "id": "10bd6b8c-2bde-4e2d-abc8-f21e9f96810b",
   "metadata": {},
   "source": [
    "Defining the cost function -"
   ]
  },
  {
   "cell_type": "code",
   "execution_count": 288,
   "id": "c3385650-960a-4eaf-ac20-f7d6739ac95e",
   "metadata": {},
   "outputs": [],
   "source": [
    "def cost_function(x_train, y_train, w, b):\n",
    "    \n",
    "    m,  = x_train.shape\n",
    "    \n",
    "    # for storing sum of squared differences\n",
    "    sq_diff_total = 0\n",
    "    \n",
    "    for i in range(m):\n",
    "        fx_i = x_train[i]*w + b\n",
    "        sq_diff_total = sq_diff_total + (fx_i - y_train[i])**2\n",
    "        \n",
    "    cost_value = sq_diff_total/m\n",
    "    return cost_value"
   ]
  },
  {
   "cell_type": "code",
   "execution_count": 289,
   "id": "8ac0459c-c6d4-49f2-a6da-f0edd5500bba",
   "metadata": {},
   "outputs": [
    {
     "data": {
      "text/plain": [
       "2498.06"
      ]
     },
     "execution_count": 289,
     "metadata": {},
     "output_type": "execute_result"
    }
   ],
   "source": [
    "# Delete temp cells\n",
    "cost_function(x_train, y_train, w, b)"
   ]
  },
  {
   "cell_type": "markdown",
   "id": "a80983f6-f2e2-4dc6-9ffd-ab2c3ce872c2",
   "metadata": {},
   "source": [
    "### Gradient descent"
   ]
  },
  {
   "cell_type": "markdown",
   "id": "d8adc2f6-e00a-4c3e-9740-e459bd4749f0",
   "metadata": {},
   "source": [
    "Gradient descent is the algorithm to get suitable $w$ and $b$."
   ]
  },
  {
   "cell_type": "markdown",
   "id": "efe708fc-51df-4c38-9edd-12fe5a3f7ee4",
   "metadata": {},
   "source": [
    "$$ \n",
    "    \\text{loop} \\left \\{ \\\\\n",
    "    w = w - \\alpha \\frac{\\partial J}{\\partial w}; \\\\\n",
    "    b = b - \\alpha \\frac{\\partial J}{\\partial b}; \\\\\n",
    "    \\right \\}\n",
    "$$"
   ]
  },
  {
   "cell_type": "markdown",
   "id": "f901524e-2496-4d5e-abaa-8285fb95249c",
   "metadata": {},
   "source": [
    "The update steps of $w$ and $b$ are repeated till $\\frac{\\partial J}{\\partial w}$ and $\\frac{\\partial J}{\\partial b}$ gets too small to make any difference. $\\frac{\\partial J}{\\partial w}$ and $\\frac{\\partial J}{\\partial b}$ are defined as -"
   ]
  },
  {
   "cell_type": "markdown",
   "id": "f807b600-8845-4415-8100-adb03d73e9de",
   "metadata": {},
   "source": [
    "$$\n",
    "\\frac{\\partial J}{\\partial w} = \\frac{1}{m} \\sum_{i=1}^m(f_{w, b}(x^{(i)}) - y^{(i)})x^{(i)}; \n",
    "$$\n",
    "$$\n",
    "\\frac{\\partial J}{\\partial b} = \\frac{1}{m} \\sum_{i=1}^m(f_{w, b}(x^{(i)}) - y^{(i)});\n",
    "$$"
   ]
  },
  {
   "cell_type": "markdown",
   "id": "e2313c00-53f3-404b-8a94-5ab2e8f460fa",
   "metadata": {},
   "source": [
    "Defining function to compute gradient -"
   ]
  },
  {
   "cell_type": "code",
   "execution_count": 290,
   "id": "00950ea4-5205-41df-af07-db60fab7ee58",
   "metadata": {},
   "outputs": [],
   "source": [
    "def compute_gradient(x_train, y_train, w, b):\n",
    "    \n",
    "    m, = x_train.shape\n",
    "    \n",
    "    dj_dw = 0\n",
    "    dj_db = 0\n",
    "    \n",
    "    for i in range(m):\n",
    "        fx_i = x_train[i]*w+b\n",
    "        \n",
    "        dj_dw_i = (fx_i-y_train[i])*x_train[i]\n",
    "        dj_dw = dj_dw+dj_dw_i\n",
    "        \n",
    "        dj_db_i = (fx_i-y_train[i])\n",
    "        dj_db = dj_db+dj_db_i\n",
    "        \n",
    "    dj_dw = dj_dw/m\n",
    "    dj_db = dj_db/m\n",
    "    \n",
    "    return dj_dw, dj_db\n",
    "        "
   ]
  },
  {
   "cell_type": "markdown",
   "id": "ee83bc35-af47-43fe-886f-88f535424665",
   "metadata": {},
   "source": [
    "Defining function to perform gradient descent algorithm"
   ]
  },
  {
   "cell_type": "code",
   "execution_count": 291,
   "id": "163ab967-11cc-48f3-b2b8-42f2d9117a3c",
   "metadata": {},
   "outputs": [],
   "source": [
    "def gradient_descent(x_train, y_train, w, b):\n",
    "    \n",
    "    # to prevent resource exhaustion\n",
    "    max_num_iter = 1E5\n",
    "    \n",
    "    iter_cnt = 0\n",
    "    \n",
    "    # gradient threeshold\n",
    "    grd_thrld = 1E-4\n",
    "    \n",
    "    # initialization with dummy values\n",
    "    dj_dw = 1\n",
    "    dj_db = 1\n",
    "    \n",
    "    alpha = 1.5E-7\n",
    "    \n",
    "    # Keeping track of the cost values\n",
    "    cost_values = []\n",
    "    \n",
    "    while ( (abs(dj_dw) >= grd_thrld or abs(dj_db) >= grd_thrld) and iter_cnt < max_num_iter):\n",
    "        dj_dw, dj_db = compute_gradient(x_train, y_train, w, b)\n",
    "        w = w-alpha*dj_dw\n",
    "        b = b-alpha*dj_db\n",
    "        \n",
    "        cost = cost_function(x_train, y_train, w, b)\n",
    "        cost_values.append(cost)\n",
    "        \n",
    "        iter_cnt = iter_cnt+1\n",
    "    return w, b, cost_values, iter_cnt"
   ]
  },
  {
   "cell_type": "code",
   "execution_count": 292,
   "id": "0f18d820-bce2-4b2e-a2d8-2e6877e2daaa",
   "metadata": {},
   "outputs": [
    {
     "name": "stdout",
     "output_type": "stream",
     "text": [
      "2.846438046275505 0.1382049442260102\n"
     ]
    }
   ],
   "source": [
    "w, b, cost_values, iter_cnt = gradient_descent(x_train, y_train, w, b)\n",
    "print(w, b)"
   ]
  },
  {
   "cell_type": "code",
   "execution_count": 293,
   "id": "891c6a2e-7abf-447b-8787-8ac014f86f51",
   "metadata": {},
   "outputs": [
    {
     "data": {
      "image/png": "[encoded data removed]",
      "text/plain": [
       "<Figure size 640x480 with 1 Axes>"
      ]
     },
     "metadata": {},
     "output_type": "display_data"
    }
   ],
   "source": [
    "y_values = (x_train*w) + b\n",
    "#print(x_values)\n",
    "plt.scatter(car_stopping_df[\"Speed\"], car_stopping_df[\"Distance\"])\n",
    "plt.plot(x_train, y_values)\n",
    "plt.xlabel(\"Speed (miles/hour)\")\n",
    "plt.ylabel(\"Stopping distance (feet)\")\n",
    "plt.title(\"Car stopping distance plot\")\n",
    "plt.show()\n",
    "#print(x_train)"
   ]
  },
  {
   "cell_type": "code",
   "execution_count": 294,
   "id": "42dbf037-3e98-43c0-acb3-a9450d4d337a",
   "metadata": {},
   "outputs": [
    {
     "data": {
      "image/png": "[encoded data removed]",
      "text/plain": [
       "<Figure size 640x480 with 1 Axes>"
      ]
     },
     "metadata": {},
     "output_type": "display_data"
    }
   ],
   "source": [
    "plt.plot(np.arange(iter_cnt), cost_values)\n",
    "plt.show()"
   ]
  },
  {
   "cell_type": "code",
   "execution_count": null,
   "id": "dd173ebe-e240-4cd8-a4b4-6b1387ec4491",
   "metadata": {},
   "outputs": [],
   "source": []
  },
  {
   "cell_type": "code",
   "execution_count": null,
   "id": "be2b9638-e9a0-4785-a23d-b088e6dfcdef",
   "metadata": {},
   "outputs": [],
   "source": []
  },
  {
   "cell_type": "code",
   "execution_count": null,
   "id": "9dcf8620-e6ab-44b0-9b55-a862e2be0833",
   "metadata": {},
   "outputs": [],
   "source": []
  }
 ],
 "metadata": {
  "kernelspec": {
   "display_name": "Python 3 (ipykernel)",
   "language": "python",
   "name": "python3"
  },
  "language_info": {
   "codemirror_mode": {
    "name": "ipython",
    "version": 3
   },
   "file_extension": ".py",
   "mimetype": "text/x-python",
   "name": "python",
   "nbconvert_exporter": "python",
   "pygments_lexer": "ipython3",
   "version": "3.10.4"
  }
 },
 "nbformat": 4,
 "nbformat_minor": 5
}
